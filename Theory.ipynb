{
 "cells": [
  {
   "attachments": {},
   "cell_type": "markdown",
   "metadata": {},
   "source": [
    "The clustering K Means tries to separate the data set so that they are as close as possible.\n",
    "\n",
    "The algorithm receives the number of clustering that it will construct. It randomly take this these number and calculate the distance between the other number and the chosen, after we have our first clustering, we calculate the center of each points. Now the reference points used to decide which point belongs to each clustering. The algorithm redo this operations until find a fixed cluster, a cluster which elements doesn't change after an interation."
   ]
  },
  {
   "attachments": {},
   "cell_type": "markdown",
   "metadata": {},
   "source": [
    "In the **clustering K Means++** we have a small difference, instead of the next centroid being defined by the average of the elements. The next centroid is a point bot not any point, the choice of the point will be chosen probabilistically where the probability is proportional to the square of the distance in relation to the previous centroid"
   ]
  },
  {
   "attachments": {},
   "cell_type": "markdown",
   "metadata": {},
   "source": [
    "The performace of this tipe of alorithm can be measure through the sum of the distances of the ponts until the centroid. The lower the value, the higher the performance."
   ]
  },
  {
   "attachments": {},
   "cell_type": "markdown",
   "metadata": {},
   "source": [
    "We usually use $\\sqrt{n/2}$ as the number of clusters. This is a law, it is just a criterion."
   ]
  }
 ],
 "metadata": {
  "kernelspec": {
   "display_name": "Julia 1.8.3",
   "language": "julia",
   "name": "julia-1.8"
  },
  "language_info": {
   "file_extension": ".jl",
   "mimetype": "application/julia",
   "name": "julia",
   "version": "1.8.3"
  },
  "orig_nbformat": 4
 },
 "nbformat": 4,
 "nbformat_minor": 2
}
